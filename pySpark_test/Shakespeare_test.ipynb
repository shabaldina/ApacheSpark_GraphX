{
 "cells": [
  {
   "cell_type": "code",
   "execution_count": 1,
   "id": "dietary-double",
   "metadata": {},
   "outputs": [],
   "source": [
    "from pyspark import SparkContext\n",
    "sc = SparkContext(\"spark://my-spark-master-svc:7077\", \"First App\")"
   ]
  },
  {
   "cell_type": "code",
   "execution_count": 2,
   "id": "placed-saturday",
   "metadata": {},
   "outputs": [],
   "source": [
    "logFile = \"https://ocw.mit.edu/ans7870/6/6.006/s08/lecturenotes/files/t8.shakespeare.txt\"\n",
    "\n",
    "from pyspark import SparkFiles\n",
    "sc.addFile(logFile)\n",
    "\n",
    "logData = sc.textFile(SparkFiles.get(\"t8.shakespeare.txt\")).cache()"
   ]
  },
  {
   "cell_type": "code",
   "execution_count": null,
   "id": "plain-finnish",
   "metadata": {},
   "outputs": [],
   "source": [
    "numAs = logData.filter(lambda s: 'a' in s).count()\n",
    "numBs = logData.filter(lambda s: 'b' in s).count()\n",
    "print(\"Lines with a: %i, lines with b: %i\" % (numAs, numBs))"
   ]
  }
 ],
 "metadata": {
  "kernelspec": {
   "display_name": "Python 3",
   "language": "python",
   "name": "python3"
  },
  "language_info": {
   "codemirror_mode": {
    "name": "ipython",
    "version": 3
   },
   "file_extension": ".py",
   "mimetype": "text/x-python",
   "name": "python",
   "nbconvert_exporter": "python",
   "pygments_lexer": "ipython3",
   "version": "3.8.6"
  }
 },
 "nbformat": 4,
 "nbformat_minor": 5
}
